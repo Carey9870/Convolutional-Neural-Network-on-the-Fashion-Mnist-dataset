{
 "cells": [
  {
   "cell_type": "code",
   "execution_count": 1,
   "metadata": {},
   "outputs": [],
   "source": [
    "from tensorflow import keras"
   ]
  },
  {
   "cell_type": "code",
   "execution_count": 3,
   "metadata": {},
   "outputs": [],
   "source": [
    "# load the keras dataset\n",
    "\n",
    "fashion_mnist = keras.datasets.fashion_mnist\n",
    "(X_train_full, y_train_full), (X_test, y_test) = fashion_mnist.load_data()\n",
    "X_valid, X_train = X_train_full[:5000] / 255.0, X_train_full[5000:] / 255.0 # scaling the images to a range of 0-1\n",
    "y_valid, y_train = y_train_full[:5000], y_train_full[5000:]"
   ]
  },
  {
   "cell_type": "code",
   "execution_count": 2,
   "metadata": {},
   "outputs": [],
   "source": [
    "from functools import partial\n",
    "\n",
    "DefaultConv2D = partial(\n",
    "    keras.layers.Conv2D, kernel_size=3, activation='relu', padding='SAME'\n",
    ")"
   ]
  },
  {
   "cell_type": "code",
   "execution_count": 4,
   "metadata": {},
   "outputs": [],
   "source": [
    "model = keras.models.Sequential([\n",
    "    # convolutional layers\n",
    "    DefaultConv2D(filters=64, kernel_size=7, input_shape=[28,28,1]),\n",
    "    keras.layers.MaxPooling2D(pool_size=2),\n",
    "    DefaultConv2D(filters=128),\n",
    "    DefaultConv2D(filters=128),\n",
    "    keras.layers.MaxPooling2D(pool_size=2),\n",
    "    DefaultConv2D(filters=256),\n",
    "    DefaultConv2D(filters=256),\n",
    "    keras.layers.MaxPooling2D(pool_size=2),\n",
    "    # fully dense networks\n",
    "    keras.layers.Flatten(),\n",
    "    keras.layers.Dense(units=128, activation='relu'),\n",
    "    keras.layers.Dropout(0.5),\n",
    "    keras.layers.Dense(units=64, activation='relu'),\n",
    "    keras.layers.Dropout(0.5),\n",
    "    keras.layers.Dense(units=10, activation='softmax')\n",
    "])"
   ]
  },
  {
   "cell_type": "code",
   "execution_count": 5,
   "metadata": {},
   "outputs": [
    {
     "name": "stdout",
     "output_type": "stream",
     "text": [
      "Epoch 1/10\n",
      "1719/1719 [==============================] - 881s 465ms/step - loss: 0.7046 - accuracy: 0.7475 - val_loss: 0.3506 - val_accuracy: 0.8658\n",
      "Epoch 2/10\n",
      "1719/1719 [==============================] - 816s 475ms/step - loss: 0.3960 - accuracy: 0.8625 - val_loss: 0.2936 - val_accuracy: 0.8952\n",
      "Epoch 3/10\n",
      "1719/1719 [==============================] - 836s 487ms/step - loss: 0.3304 - accuracy: 0.8865 - val_loss: 0.2856 - val_accuracy: 0.8992\n",
      "Epoch 4/10\n",
      "1719/1719 [==============================] - 860s 500ms/step - loss: 0.2996 - accuracy: 0.8979 - val_loss: 0.2677 - val_accuracy: 0.9032\n",
      "Epoch 5/10\n",
      "1719/1719 [==============================] - 831s 484ms/step - loss: 0.2758 - accuracy: 0.9045 - val_loss: 0.2466 - val_accuracy: 0.9192\n",
      "Epoch 6/10\n",
      "1719/1719 [==============================] - 770s 448ms/step - loss: 0.2598 - accuracy: 0.9104 - val_loss: 0.2581 - val_accuracy: 0.9080\n",
      "Epoch 7/10\n",
      "1719/1719 [==============================] - 825s 480ms/step - loss: 0.2438 - accuracy: 0.9161 - val_loss: 0.2297 - val_accuracy: 0.9190\n",
      "Epoch 8/10\n",
      "1719/1719 [==============================] - 816s 475ms/step - loss: 0.2276 - accuracy: 0.9200 - val_loss: 0.2554 - val_accuracy: 0.9176\n",
      "Epoch 9/10\n",
      "1719/1719 [==============================] - 815s 474ms/step - loss: 0.2212 - accuracy: 0.9223 - val_loss: 0.2821 - val_accuracy: 0.9112\n",
      "Epoch 10/10\n",
      "1719/1719 [==============================] - 850s 495ms/step - loss: 0.2053 - accuracy: 0.9271 - val_loss: 0.2469 - val_accuracy: 0.9180\n"
     ]
    }
   ],
   "source": [
    "# compile and fit the model\n",
    "model.compile(loss=\"sparse_categorical_crossentropy\", optimizer=\"nadam\", metrics=[\"accuracy\"])\n",
    "history = model.fit(X_train, y_train, epochs=10, validation_data=(X_valid, y_valid))"
   ]
  },
  {
   "cell_type": "code",
   "execution_count": 6,
   "metadata": {},
   "outputs": [
    {
     "name": "stdout",
     "output_type": "stream",
     "text": [
      "313/313 [==============================] - 32s 98ms/step - loss: 40.5480 - accuracy: 0.8519\n"
     ]
    },
    {
     "data": {
      "text/plain": [
       "[40.54804611206055, 0.8518999814987183]"
      ]
     },
     "execution_count": 6,
     "metadata": {},
     "output_type": "execute_result"
    }
   ],
   "source": [
    "# check accuracy of the dataset\n",
    "score = model.evaluate(X_test, y_test)\n",
    "score"
   ]
  },
  {
   "cell_type": "markdown",
   "metadata": {},
   "source": [
    "                        85.2% accuracy"
   ]
  },
  {
   "cell_type": "code",
   "execution_count": 8,
   "metadata": {},
   "outputs": [
    {
     "name": "stdout",
     "output_type": "stream",
     "text": [
      "1/1 [==============================] - 0s 222ms/step\n"
     ]
    },
    {
     "data": {
      "text/plain": [
       "array([[0.        , 0.        , 0.        , 0.        , 0.        ,\n",
       "        0.        , 0.        , 0.        , 0.        , 1.        ],\n",
       "       [0.        , 0.        , 1.        , 0.        , 0.        ,\n",
       "        0.        , 0.        , 0.        , 0.        , 0.        ],\n",
       "       [0.        , 1.        , 0.        , 0.        , 0.        ,\n",
       "        0.        , 0.        , 0.        , 0.        , 0.        ],\n",
       "       [0.        , 1.        , 0.        , 0.        , 0.        ,\n",
       "        0.        , 0.        , 0.        , 0.        , 0.        ],\n",
       "       [0.97788733, 0.        , 0.        , 0.        , 0.        ,\n",
       "        0.        , 0.02211263, 0.        , 0.        , 0.        ],\n",
       "       [0.        , 1.        , 0.        , 0.        , 0.        ,\n",
       "        0.        , 0.        , 0.        , 0.        , 0.        ],\n",
       "       [0.        , 0.        , 0.        , 0.        , 1.        ,\n",
       "        0.        , 0.        , 0.        , 0.        , 0.        ],\n",
       "       [0.        , 0.        , 0.        , 0.        , 1.        ,\n",
       "        0.        , 0.        , 0.        , 0.        , 0.        ],\n",
       "       [0.        , 0.        , 0.        , 0.        , 0.        ,\n",
       "        1.        , 0.        , 0.        , 0.        , 0.        ],\n",
       "       [0.        , 0.        , 0.        , 0.        , 0.        ,\n",
       "        0.        , 0.        , 1.        , 0.        , 0.        ]],\n",
       "      dtype=float32)"
      ]
     },
     "execution_count": 8,
     "metadata": {},
     "output_type": "execute_result"
    }
   ],
   "source": [
    "X_new = X_test[:10] # pretend we have new images\n",
    "y_pred = model.predict(X_new)\n",
    "y_pred"
   ]
  },
  {
   "cell_type": "markdown",
   "metadata": {},
   "source": [
    "=========================="
   ]
  }
 ],
 "metadata": {
  "kernelspec": {
   "display_name": "Python 3.10.2 64-bit",
   "language": "python",
   "name": "python3"
  },
  "language_info": {
   "codemirror_mode": {
    "name": "ipython",
    "version": 3
   },
   "file_extension": ".py",
   "mimetype": "text/x-python",
   "name": "python",
   "nbconvert_exporter": "python",
   "pygments_lexer": "ipython3",
   "version": "3.10.2"
  },
  "orig_nbformat": 4,
  "vscode": {
   "interpreter": {
    "hash": "412ccff6fb13ee14c93d2b8b85fab99f2d3a6250a390f2b105cadca88f5395d9"
   }
  }
 },
 "nbformat": 4,
 "nbformat_minor": 2
}
